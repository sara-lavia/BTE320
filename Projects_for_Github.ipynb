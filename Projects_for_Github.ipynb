{
  "nbformat": 4,
  "nbformat_minor": 0,
  "metadata": {
    "colab": {
      "provenance": [],
      "authorship_tag": "ABX9TyOfdapt8fBfxDr1k5F5pQlE",
      "include_colab_link": true
    },
    "kernelspec": {
      "name": "python3",
      "display_name": "Python 3"
    },
    "language_info": {
      "name": "python"
    }
  },
  "cells": [
    {
      "cell_type": "markdown",
      "metadata": {
        "id": "view-in-github",
        "colab_type": "text"
      },
      "source": [
        "<a href=\"https://colab.research.google.com/github/sara-lavia/BTE320/blob/main/Projects_for_Github.ipynb\" target=\"_parent\"><img src=\"https://colab.research.google.com/assets/colab-badge.svg\" alt=\"Open In Colab\"/></a>"
      ]
    },
    {
      "cell_type": "code",
      "execution_count": null,
      "metadata": {
        "id": "rqdwcMMg4o5k"
      },
      "outputs": [],
      "source": [
        "while True:\n",
        "  number1= float(input(\"Enter a number\"))\n",
        "  number2= float(input(\"Enter another number\"))\n",
        "  op=input(\"Enter an operation\")\n",
        "  if op=='break':\n",
        "    print(\"goodbye\")\n",
        "    break\n",
        "  elif op== \"+\":\n",
        "    print(f'{number1}+{number2}={number1+number2}')\n",
        "  elif op== \"-\":\n",
        "    print(f'{number1}-{number2}={number1-number2}')\n",
        "  elif op== \"*\":\n",
        "    print(f'{number1}*{number2}={number1*number2}')\n",
        "  elif op== \"/\":\n",
        "    print(f'{number1}/{number2}={number1/number2}')\n",
        "  elif op== \"//\":\n",
        "    print(f'{number1}//{number2}={number1//number2}')\n",
        "  elif op== \"**\":\n",
        "    print(f'{number1}**{number2}={number1**number2}')\n",
        "  elif op==\"%\":\n",
        "    print(f'{number1}%{number2}={number1%number2}')\n",
        "  else:\n",
        "    continue"
      ]
    }
  ]
}