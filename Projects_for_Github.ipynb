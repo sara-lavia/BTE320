{
  "nbformat": 4,
  "nbformat_minor": 0,
  "metadata": {
    "colab": {
      "provenance": [],
      "authorship_tag": "ABX9TyP+4VnsWLQ7K579v/TCdueD",
      "include_colab_link": true
    },
    "kernelspec": {
      "name": "python3",
      "display_name": "Python 3"
    },
    "language_info": {
      "name": "python"
    }
  },
  "cells": [
    {
      "cell_type": "markdown",
      "metadata": {
        "id": "view-in-github",
        "colab_type": "text"
      },
      "source": [
        "<a href=\"https://colab.research.google.com/github/sara-lavia/BTE320/blob/main/Projects_for_Github.ipynb\" target=\"_parent\"><img src=\"https://colab.research.google.com/assets/colab-badge.svg\" alt=\"Open In Colab\"/></a>"
      ]
    },
    {
      "cell_type": "code",
      "execution_count": null,
      "metadata": {
        "id": "rqdwcMMg4o5k"
      },
      "outputs": [],
      "source": [
        "while True:\n",
        "  number1= float(input(\"Enter a number\"))\n",
        "  number2= float(input(\"Enter another number\"))\n",
        "  op=input(\"Enter an operation\")\n",
        "  if op=='break':\n",
        "    print(\"goodbye\")\n",
        "    break\n",
        "  elif op== \"+\":\n",
        "    print(f'{number1}+{number2}={number1+number2}')\n",
        "  elif op== \"-\":\n",
        "    print(f'{number1}-{number2}={number1-number2}')\n",
        "  elif op== \"*\":\n",
        "    print(f'{number1}*{number2}={number1*number2}')\n",
        "  elif op== \"/\":\n",
        "    print(f'{number1}/{number2}={number1/number2}')\n",
        "  elif op== \"//\":\n",
        "    print(f'{number1}//{number2}={number1//number2}')\n",
        "  elif op== \"**\":\n",
        "    print(f'{number1}**{number2}={number1**number2}')\n",
        "  elif op==\"%\":\n",
        "    print(f'{number1}%{number2}={number1%number2}')\n",
        "  else:\n",
        "    continue"
      ]
    },
    {
      "cell_type": "code",
      "source": [
        "#Write a program that takes as input from the keyboard a string that corresponds t # a date (e.g., 02/20/2024) in the format: MM/DD/YYYY\n",
        "\n",
        "date=input(\"Enter a date\")\n",
        "month=date[0:2]\n",
        "day=date[3:5]\n",
        "year=date[6:10]\n",
        "print(f'The month is {date[0:2]}')\n",
        "print(f'The day is {date[3:5]}')\n",
        "print(f'The year is {date[6:]}')\n"
      ],
      "metadata": {
        "id": "fNiwkEjQJMft",
        "outputId": "0faeb88e-803b-4b26-c6fc-11fca64abfe8",
        "colab": {
          "base_uri": "https://localhost:8080/"
        }
      },
      "execution_count": 1,
      "outputs": [
        {
          "output_type": "stream",
          "name": "stdout",
          "text": [
            "Enter a date02/22/2004\n",
            "The month is 02\n",
            "The day is 22\n",
            "The year is 2004\n"
          ]
        }
      ]
    }
  ]
}