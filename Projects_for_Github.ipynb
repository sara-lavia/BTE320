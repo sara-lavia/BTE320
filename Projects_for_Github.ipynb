{
  "nbformat": 4,
  "nbformat_minor": 0,
  "metadata": {
    "colab": {
      "provenance": [],
      "authorship_tag": "ABX9TyNHIbpdPnQ/VuuDokyDfQOL",
      "include_colab_link": true
    },
    "kernelspec": {
      "name": "python3",
      "display_name": "Python 3"
    },
    "language_info": {
      "name": "python"
    }
  },
  "cells": [
    {
      "cell_type": "markdown",
      "metadata": {
        "id": "view-in-github",
        "colab_type": "text"
      },
      "source": [
        "<a href=\"https://colab.research.google.com/github/sara-lavia/BTE320/blob/main/Projects_for_Github.ipynb\" target=\"_parent\"><img src=\"https://colab.research.google.com/assets/colab-badge.svg\" alt=\"Open In Colab\"/></a>"
      ]
    },
    {
      "cell_type": "code",
      "source": [
        "import random\n",
        "\n",
        "UserInput=input(\"Play a game? (y/n)\")\n",
        "while UserInput==\"y\":\n",
        "\n",
        "  user_choice = input(\"Enter your choice (rock, paper, or scissors): \")\n",
        "  computer_choice = random.choice([\"rock\", \"paper\", \"scissors\"])\n",
        "\n",
        "  print(f\"You chose: {user_choice}\")\n",
        "  print(f\"Computer chose: {computer_choice}\")\n",
        "\n",
        "  if user_choice == computer_choice:\n",
        "      print(\"It's a tie!\")\n",
        "  elif (\n",
        "      (user_choice == \"rock\" and computer_choice == \"scissors\") or\n",
        "      (user_choice == \"paper\" and computer_choice == \"rock\") or\n",
        "      (user_choice == \"scissors\" and computer_choice == \"paper\")\n",
        "  ):\n",
        "      print(\"You win!\")\n",
        "  else:\n",
        "      print(\"Computer wins!\")\n",
        "\n",
        "  UserInput=input(\"Do you wish to continue? (y/n)\")"
      ],
      "metadata": {
        "colab": {
          "base_uri": "https://localhost:8080/"
        },
        "id": "GEpE9YtKYRDv",
        "outputId": "878f981c-a373-4edb-fdd6-6d1b7a616a1d"
      },
      "execution_count": null,
      "outputs": [
        {
          "name": "stdout",
          "output_type": "stream",
          "text": [
            "Play a game? (y/n)y\n",
            "Enter your choice (rock, paper, or scissors): rock\n",
            "You chose: rock\n",
            "Computer chose: paper\n",
            "Computer wins!\n",
            "Do you wish to continue? (y/n)n\n"
          ]
        }
      ]
    },
    {
      "cell_type": "code",
      "execution_count": null,
      "metadata": {
        "id": "rqdwcMMg4o5k"
      },
      "outputs": [],
      "source": [
        "while True:\n",
        "  number1= float(input(\"Enter a number\"))\n",
        "  number2= float(input(\"Enter another number\"))\n",
        "  op=input(\"Enter an operation\")\n",
        "  if op=='break':\n",
        "    print(\"goodbye\")\n",
        "    break\n",
        "  elif op== \"+\":\n",
        "    print(f'{number1}+{number2}={number1+number2}')\n",
        "  elif op== \"-\":\n",
        "    print(f'{number1}-{number2}={number1-number2}')\n",
        "  elif op== \"*\":\n",
        "    print(f'{number1}*{number2}={number1*number2}')\n",
        "  elif op== \"/\":\n",
        "    print(f'{number1}/{number2}={number1/number2}')\n",
        "  elif op== \"//\":\n",
        "    print(f'{number1}//{number2}={number1//number2}')\n",
        "  elif op== \"**\":\n",
        "    print(f'{number1}**{number2}={number1**number2}')\n",
        "  elif op==\"%\":\n",
        "    print(f'{number1}%{number2}={number1%number2}')\n",
        "  else:\n",
        "    continue"
      ]
    },
    {
      "cell_type": "code",
      "source": [
        "#Write a program that takes as input from the keyboard a string that corresponds t # a date (e.g., 02/20/2024) in the format: MM/DD/YYYY\n",
        "\n",
        "date=input(\"Enter a date\")\n",
        "month=date[0:2]\n",
        "day=date[3:5]\n",
        "year=date[6:10]\n",
        "print(f'The month is {date[0:2]}')\n",
        "print(f'The day is {date[3:5]}')\n",
        "print(f'The year is {date[6:]}')\n"
      ],
      "metadata": {
        "colab": {
          "base_uri": "https://localhost:8080/"
        },
        "id": "fNiwkEjQJMft",
        "outputId": "0faeb88e-803b-4b26-c6fc-11fca64abfe8"
      },
      "execution_count": null,
      "outputs": [
        {
          "output_type": "stream",
          "name": "stdout",
          "text": [
            "Enter a date02/22/2004\n",
            "The month is 02\n",
            "The day is 22\n",
            "The year is 2004\n"
          ]
        }
      ]
    },
    {
      "cell_type": "code",
      "source": [
        "L=[]\n",
        "number=int(input('Enter a value: '))\n",
        "while number!=0:\n",
        "  L.append(number)\n",
        "  number=int(input('Enter a value: '))\n",
        "L\n",
        "\n"
      ],
      "metadata": {
        "colab": {
          "base_uri": "https://localhost:8080/"
        },
        "id": "Rv2rUUzXU0Tj",
        "outputId": "8bd25245-1a3a-470f-f05e-d3e91b7a5c8e"
      },
      "execution_count": null,
      "outputs": [
        {
          "name": "stdout",
          "output_type": "stream",
          "text": [
            "Enter a value: 3\n",
            "Enter a value: 4\n",
            "Enter a value: 0\n"
          ]
        },
        {
          "output_type": "execute_result",
          "data": {
            "text/plain": [
              "[3, 4]"
            ]
          },
          "metadata": {},
          "execution_count": 6
        }
      ]
    },
    {
      "cell_type": "code",
      "source": [
        "L.sort()\n",
        "L"
      ],
      "metadata": {
        "colab": {
          "base_uri": "https://localhost:8080/"
        },
        "id": "NLzDJsApagVW",
        "outputId": "27d96750-3ec1-417a-efb6-4cd9097fc946"
      },
      "execution_count": null,
      "outputs": [
        {
          "output_type": "execute_result",
          "data": {
            "text/plain": [
              "[3, 4]"
            ]
          },
          "metadata": {},
          "execution_count": 7
        }
      ]
    },
    {
      "cell_type": "code",
      "source": [
        "def recursive_backwards(s):\n",
        "  if len(s) == 1:\n",
        "    return s\n",
        "  else:\n",
        "    return s[-1]+recursive_backwards(s[:-1])\n",
        "\n",
        "recursive_backwards(f'Sara')"
      ],
      "metadata": {
        "colab": {
          "base_uri": "https://localhost:8080/",
          "height": 35
        },
        "id": "XyH7UwHfeE3d",
        "outputId": "7dfe0ab1-54c1-496b-e2e4-5653c84af9fd"
      },
      "execution_count": null,
      "outputs": [
        {
          "output_type": "execute_result",
          "data": {
            "text/plain": [
              "'araS'"
            ],
            "application/vnd.google.colaboratory.intrinsic+json": {
              "type": "string"
            }
          },
          "metadata": {},
          "execution_count": 1
        }
      ]
    },
    {
      "cell_type": "code",
      "source": [
        "def avg(alist):\n",
        "  try:\n",
        "    return sum(alist)/len(alist)\n",
        "  except ZeroDivisionError:\n",
        "    print('The list is empty!')\n",
        "    return\n",
        "  except TypeError:\n",
        "    print('Values must be numerical!')\n",
        "    return float('nan') #not a number, can be casted as a float\n",
        "\n",
        "l=[17,6.8,95]\n",
        "avg(l)"
      ],
      "metadata": {
        "colab": {
          "base_uri": "https://localhost:8080/"
        },
        "id": "WCyxcV8_PJYB",
        "outputId": "8d7e8cfa-5dc1-4509-cd3d-9d3fe0fe81a8"
      },
      "execution_count": null,
      "outputs": [
        {
          "output_type": "execute_result",
          "data": {
            "text/plain": [
              "39.6"
            ]
          },
          "metadata": {},
          "execution_count": 1
        }
      ]
    },
    {
      "cell_type": "code",
      "source": [
        "#An example with Properties and Methods: Mortgage\n",
        "#Properties: initial loan amount ($), term to maturity (years), fixed annual int rate (%)\n",
        "\n",
        "class Mortgage:\n",
        "  def __init__(self,amount,maturity,interest):\n",
        "    self.amount=amount\n",
        "    self.maturity=maturity\n",
        "    self.__interest=interest\n",
        "    #doubleunderscores make it a private attribute\n",
        "    #constructors must always go first\n",
        "\n",
        "  def __str__(self):\n",
        "    #can also use __repr__\n",
        "    return 'Initial loan amount: $' +str(self.amount) + '\\n' + f'Maturity term: {self.maturity} Years' + '\\n' + f'Interest rate: {self.__interest}%'\n",
        "\n",
        "  def get_interest(self):\n",
        "    return self.__interest\n",
        "\n",
        "  def set_interest(self, newInterest):\n",
        "    if newInterest>=0:\n",
        "      self.__interest=newInterest\n",
        "    else:\n",
        "      print('Interest must be positive')\n",
        "\n",
        "  def payment(self):\n",
        "    n=12*self.maturity\n",
        "    r=self.__interest/100\n",
        "    return self.amount * (r*(1+r)**n)/((1+r)**n-1)"
      ],
      "metadata": {
        "id": "Dwbp_e7CVt2X"
      },
      "execution_count": 1,
      "outputs": []
    }
  ]
}