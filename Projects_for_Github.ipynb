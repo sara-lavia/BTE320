{
  "nbformat": 4,
  "nbformat_minor": 0,
  "metadata": {
    "colab": {
      "provenance": [],
      "authorship_tag": "ABX9TyN41X0df51enhZnTozqNjUt",
      "include_colab_link": true
    },
    "kernelspec": {
      "name": "python3",
      "display_name": "Python 3"
    },
    "language_info": {
      "name": "python"
    }
  },
  "cells": [
    {
      "cell_type": "markdown",
      "metadata": {
        "id": "view-in-github",
        "colab_type": "text"
      },
      "source": [
        "<a href=\"https://colab.research.google.com/github/sara-lavia/BTE320/blob/main/Projects_for_Github.ipynb\" target=\"_parent\"><img src=\"https://colab.research.google.com/assets/colab-badge.svg\" alt=\"Open In Colab\"/></a>"
      ]
    },
    {
      "cell_type": "code",
      "source": [
        "import random\n",
        "\n",
        "UserInput=input(\"Play a game? (y/n)\")\n",
        "while UserInput==\"y\":\n",
        "\n",
        "  user_choice = input(\"Enter your choice (rock, paper, or scissors): \")\n",
        "  computer_choice = random.choice([\"rock\", \"paper\", \"scissors\"])\n",
        "\n",
        "  print(f\"You chose: {user_choice}\")\n",
        "  print(f\"Computer chose: {computer_choice}\")\n",
        "\n",
        "  if user_choice == computer_choice:\n",
        "      print(\"It's a tie!\")\n",
        "  elif (\n",
        "      (user_choice == \"rock\" and computer_choice == \"scissors\") or\n",
        "      (user_choice == \"paper\" and computer_choice == \"rock\") or\n",
        "      (user_choice == \"scissors\" and computer_choice == \"paper\")\n",
        "  ):\n",
        "      print(\"You win!\")\n",
        "  else:\n",
        "      print(\"Computer wins!\")\n",
        "\n",
        "  UserInput=input(\"Do you wish to continue? (y/n)\")"
      ],
      "metadata": {
        "colab": {
          "base_uri": "https://localhost:8080/"
        },
        "id": "GEpE9YtKYRDv",
        "outputId": "878f981c-a373-4edb-fdd6-6d1b7a616a1d"
      },
      "execution_count": null,
      "outputs": [
        {
          "name": "stdout",
          "output_type": "stream",
          "text": [
            "Play a game? (y/n)y\n",
            "Enter your choice (rock, paper, or scissors): rock\n",
            "You chose: rock\n",
            "Computer chose: paper\n",
            "Computer wins!\n",
            "Do you wish to continue? (y/n)n\n"
          ]
        }
      ]
    },
    {
      "cell_type": "code",
      "execution_count": null,
      "metadata": {
        "id": "rqdwcMMg4o5k"
      },
      "outputs": [],
      "source": [
        "while True:\n",
        "  number1= float(input(\"Enter a number\"))\n",
        "  number2= float(input(\"Enter another number\"))\n",
        "  op=input(\"Enter an operation\")\n",
        "  if op=='break':\n",
        "    print(\"goodbye\")\n",
        "    break\n",
        "  elif op== \"+\":\n",
        "    print(f'{number1}+{number2}={number1+number2}')\n",
        "  elif op== \"-\":\n",
        "    print(f'{number1}-{number2}={number1-number2}')\n",
        "  elif op== \"*\":\n",
        "    print(f'{number1}*{number2}={number1*number2}')\n",
        "  elif op== \"/\":\n",
        "    print(f'{number1}/{number2}={number1/number2}')\n",
        "  elif op== \"//\":\n",
        "    print(f'{number1}//{number2}={number1//number2}')\n",
        "  elif op== \"**\":\n",
        "    print(f'{number1}**{number2}={number1**number2}')\n",
        "  elif op==\"%\":\n",
        "    print(f'{number1}%{number2}={number1%number2}')\n",
        "  else:\n",
        "    continue"
      ]
    },
    {
      "cell_type": "code",
      "source": [
        "#Write a program that takes as input from the keyboard a string that corresponds t # a date (e.g., 02/20/2024) in the format: MM/DD/YYYY\n",
        "\n",
        "date=input(\"Enter a date\")\n",
        "month=date[0:2]\n",
        "day=date[3:5]\n",
        "year=date[6:10]\n",
        "print(f'The month is {date[0:2]}')\n",
        "print(f'The day is {date[3:5]}')\n",
        "print(f'The year is {date[6:]}')\n"
      ],
      "metadata": {
        "colab": {
          "base_uri": "https://localhost:8080/"
        },
        "id": "fNiwkEjQJMft",
        "outputId": "0faeb88e-803b-4b26-c6fc-11fca64abfe8"
      },
      "execution_count": null,
      "outputs": [
        {
          "output_type": "stream",
          "name": "stdout",
          "text": [
            "Enter a date02/22/2004\n",
            "The month is 02\n",
            "The day is 22\n",
            "The year is 2004\n"
          ]
        }
      ]
    },
    {
      "cell_type": "code",
      "source": [
        "L=[]\n",
        "number=int(input('Enter a value: '))\n",
        "while number!=0:\n",
        "  L.append(number)\n",
        "  number=int(input('Enter a value: '))\n",
        "L\n",
        "\n"
      ],
      "metadata": {
        "colab": {
          "base_uri": "https://localhost:8080/"
        },
        "id": "Rv2rUUzXU0Tj",
        "outputId": "8bd25245-1a3a-470f-f05e-d3e91b7a5c8e"
      },
      "execution_count": null,
      "outputs": [
        {
          "name": "stdout",
          "output_type": "stream",
          "text": [
            "Enter a value: 3\n",
            "Enter a value: 4\n",
            "Enter a value: 0\n"
          ]
        },
        {
          "output_type": "execute_result",
          "data": {
            "text/plain": [
              "[3, 4]"
            ]
          },
          "metadata": {},
          "execution_count": 6
        }
      ]
    },
    {
      "cell_type": "code",
      "source": [
        "L.sort()\n",
        "L"
      ],
      "metadata": {
        "colab": {
          "base_uri": "https://localhost:8080/"
        },
        "id": "NLzDJsApagVW",
        "outputId": "27d96750-3ec1-417a-efb6-4cd9097fc946"
      },
      "execution_count": null,
      "outputs": [
        {
          "output_type": "execute_result",
          "data": {
            "text/plain": [
              "[3, 4]"
            ]
          },
          "metadata": {},
          "execution_count": 7
        }
      ]
    },
    {
      "cell_type": "code",
      "source": [
        "def recursive_backwards(s):\n",
        "  if len(s) == 1:\n",
        "    return s\n",
        "  else:\n",
        "    return s[-1]+recursive_backwards(s[:-1])\n",
        "\n",
        "recursive_backwards(f'Sara')"
      ],
      "metadata": {
        "colab": {
          "base_uri": "https://localhost:8080/",
          "height": 35
        },
        "id": "XyH7UwHfeE3d",
        "outputId": "7dfe0ab1-54c1-496b-e2e4-5653c84af9fd"
      },
      "execution_count": null,
      "outputs": [
        {
          "output_type": "execute_result",
          "data": {
            "text/plain": [
              "'araS'"
            ],
            "application/vnd.google.colaboratory.intrinsic+json": {
              "type": "string"
            }
          },
          "metadata": {},
          "execution_count": 1
        }
      ]
    },
    {
      "cell_type": "code",
      "source": [
        "def avg(alist):\n",
        "  try:\n",
        "    return sum(alist)/len(alist)\n",
        "  except ZeroDivisionError:\n",
        "    print('The list is empty!')\n",
        "    return\n",
        "  except TypeError:\n",
        "    print('Values must be numerical!')\n",
        "    return float('nan') #not a number, can be casted as a float\n",
        "\n",
        "l=[17,6.8,95]\n",
        "avg(l)"
      ],
      "metadata": {
        "colab": {
          "base_uri": "https://localhost:8080/"
        },
        "id": "WCyxcV8_PJYB",
        "outputId": "8d7e8cfa-5dc1-4509-cd3d-9d3fe0fe81a8"
      },
      "execution_count": null,
      "outputs": [
        {
          "output_type": "execute_result",
          "data": {
            "text/plain": [
              "39.6"
            ]
          },
          "metadata": {},
          "execution_count": 1
        }
      ]
    },
    {
      "cell_type": "code",
      "source": [
        "#An example with Properties and Methods: Mortgage\n",
        "#Properties: initial loan amount ($), term to maturity (years), fixed annual int rate (%)\n",
        "\n",
        "class Mortgage:\n",
        "  def __init__(self,amount,maturity,interest):\n",
        "    self.amount=amount\n",
        "    self.maturity=maturity\n",
        "    self.__interest=interest\n",
        "    #doubleunderscores make it a private attribute\n",
        "    #constructors must always go first\n",
        "\n",
        "  def __str__(self):\n",
        "    #can also use __repr__\n",
        "    return 'Initial loan amount: $' +str(self.amount) + '\\n' + f'Maturity term: {self.maturity} Years' + '\\n' + f'Interest rate: {self.__interest}%'\n",
        "\n",
        "  def get_interest(self):\n",
        "    return self.__interest\n",
        "\n",
        "  def set_interest(self, newInterest):\n",
        "    if newInterest>=0:\n",
        "      self.__interest=newInterest\n",
        "    else:\n",
        "      print('Interest must be positive')\n",
        "\n",
        "  def payment(self):\n",
        "    n=12*self.maturity\n",
        "    r=self.__interest/100\n",
        "    return self.amount * (r*(1+r)**n)/((1+r)**n-1)"
      ],
      "metadata": {
        "id": "Dwbp_e7CVt2X"
      },
      "execution_count": null,
      "outputs": []
    },
    {
      "cell_type": "code",
      "source": [
        "def getParkingHours():\n",
        "  hours=int(input(f'How many hours would you like to park for? '))\n",
        "  return hours\n",
        "\n",
        "def calcParkingFee(hours):\n",
        "  if hours<3:\n",
        "    print('Total=$6')\n",
        "  elif hours>8:\n",
        "    print('Total=$20')\n",
        "  else:\n",
        "    print(f'Total=${hours*2.5}')\n",
        "\n",
        "hours=getParkingHours()\n",
        "calcParkingFee(hours)\n",
        "\n",
        "def GetParkingHours():\n",
        "  return int(input('Enter number of hours: '))\n",
        "\n",
        "def CalcParkingFee(hours):\n",
        "  minfee = 6\n",
        "  maxfee = 20\n",
        "  parkingfee = 2.5*hours\n",
        "  if parkingfee<=6:\n",
        "    return minfee\n",
        "  elif parkingfee>=20:\n",
        "    return maxfee\n",
        "  else:\n",
        "    return parkingfee"
      ],
      "metadata": {
        "colab": {
          "base_uri": "https://localhost:8080/"
        },
        "id": "kUh--em3959F",
        "outputId": "78bfbaf2-16a5-492e-830d-d118312cac38"
      },
      "execution_count": null,
      "outputs": [
        {
          "output_type": "stream",
          "name": "stdout",
          "text": [
            "How many hours would you like to park for? 4\n",
            "Total=$10.0\n"
          ]
        }
      ]
    },
    {
      "cell_type": "code",
      "source": [
        "user_input=int(input(\"Enter a year:\"))\n",
        "if (user_input%4==0):\n",
        "  if user_input%100==0:\n",
        "    if user_input%400==0:\n",
        "      print(\"Leap\")\n",
        "    else:\n",
        "      print(\"Not a leap\")\n",
        "  else: print(\"Leap\")"
      ],
      "metadata": {
        "colab": {
          "base_uri": "https://localhost:8080/"
        },
        "id": "UKOIhcrwDa_e",
        "outputId": "1023ebe2-7efe-4205-df0e-bccb78021ee2"
      },
      "execution_count": null,
      "outputs": [
        {
          "output_type": "stream",
          "name": "stdout",
          "text": [
            "Enter a year:2024\n",
            "Leap\n"
          ]
        }
      ]
    },
    {
      "cell_type": "code",
      "source": [
        "print(f'Ad$ Profit')\n",
        "\n",
        "init_attendees = 20\n",
        "fixed_cost = 200\n",
        "\n",
        "for advertising in range (0,201,25):\n",
        "  ad=float(advertising)\n",
        "  attendees = float(2*round(advertising**0.5)+init_attendees)\n",
        "  profit=float((attendees*10)-advertising-fixed_cost)\n",
        "  print(f'{ad} ${profit}')"
      ],
      "metadata": {
        "colab": {
          "base_uri": "https://localhost:8080/"
        },
        "id": "qtrruCAj-tyG",
        "outputId": "359fef5d-a5ad-4937-e224-e99faa18af8e"
      },
      "execution_count": null,
      "outputs": [
        {
          "output_type": "stream",
          "name": "stdout",
          "text": [
            "Ad$ Profit\n",
            "0.0 $0.0\n",
            "25.0 $75.0\n",
            "50.0 $90.0\n",
            "75.0 $105.0\n",
            "100.0 $100.0\n",
            "125.0 $95.0\n",
            "150.0 $90.0\n",
            "175.0 $85.0\n",
            "200.0 $80.0\n"
          ]
        }
      ]
    },
    {
      "cell_type": "code",
      "source": [
        "def getValues(n):\n",
        "  weights = []\n",
        "  for i in range(n):\n",
        "    weight=float(input(f'Enter a value: '))\n",
        "    weights.append(weight)\n",
        "\n",
        "  return weights[2:]\n",
        "\n",
        "def calcAverage(alist):\n",
        "  return sum(alist)/len(alist)\n",
        "\n",
        "def main():\n",
        "  n_weights = int(input('Enter number of weights: '))\n",
        "  L = getValues(n_weights)\n",
        "  avg = calcAverage(L)\n",
        "  print(avg)\n",
        "\n",
        "main()"
      ],
      "metadata": {
        "id": "sg258n6D_nIb"
      },
      "execution_count": null,
      "outputs": []
    },
    {
      "cell_type": "code",
      "source": [
        "months={}\n",
        "\n",
        "numbers = [1,2,3,4,5,6,7,8,9,10,11,12]\n",
        "names = ['Jan','Feb','Mar','Apr','May','Jun','Jul','Aug','Sep','Oct','Nov','Dec']\n",
        "\n",
        "for i in range(len(numbers)):\n",
        "  months[numbers[i]]=names[i]\n",
        "\n",
        "print(months)"
      ],
      "metadata": {
        "colab": {
          "base_uri": "https://localhost:8080/"
        },
        "id": "T3o1CcDw_ryT",
        "outputId": "a35a0a9b-6c55-4247-a1fb-f555035142a7"
      },
      "execution_count": null,
      "outputs": [
        {
          "output_type": "stream",
          "name": "stdout",
          "text": [
            "{1: 'Jan', 2: 'Feb', 3: 'Mar', 4: 'Apr', 5: 'May', 6: 'Jun', 7: 'Jul', 8: 'Aug', 9: 'Sep', 10: 'Oct', 11: 'Nov', 12: 'Dec'}\n"
          ]
        }
      ]
    },
    {
      "cell_type": "code",
      "source": [
        "Name = input('Hi, please enter your name: ')\n",
        "Customer_type = input('Enter your customer type (n: new, e: existing)')\n",
        "Deposit = float(input('Enter your deposit amount: $'))\n",
        "\n",
        "if Customer_type == 'n':\n",
        "  Interest=.03\n",
        "else:\n",
        "  if Deposit<=1000:\n",
        "    Interest=float(.03)\n",
        "  elif Deposit<=10000:\n",
        "    Interest=float(.0325)\n",
        "  elif Deposit>10000:\n",
        "    Interest=float(.035)\n",
        "\n",
        "Amount = (1 + Interest) * Deposit\n",
        "print(f'{Name}, you will have ${round(Amount,2)} in your account.')\n",
        "\n"
      ],
      "metadata": {
        "colab": {
          "base_uri": "https://localhost:8080/"
        },
        "id": "rUb_MzVdAc10",
        "outputId": "4c1d082c-6ee5-4dff-fb23-90bc5bba2817"
      },
      "execution_count": null,
      "outputs": [
        {
          "output_type": "stream",
          "name": "stdout",
          "text": [
            "Hi, please enter your name: Sara\n",
            "Enter your customer type (n: new, e: existing)e\n",
            "Enter your deposit amount: $10000\n",
            "Sara, you will have $10325.0 in your account.\n"
          ]
        }
      ]
    },
    {
      "cell_type": "code",
      "source": [
        "List = []\n",
        "while True:\n",
        "  userInput=int(input('Entr an integer to append to the list: '))\n",
        "  if userInput==0:\n",
        "    break\n",
        "  List.append(userInput)\n",
        "  print(f'Here is your current list: {List}')\n",
        "\n",
        "print(f'Here is your list: {List}')"
      ],
      "metadata": {
        "colab": {
          "base_uri": "https://localhost:8080/"
        },
        "id": "vdA3AF6XBcZA",
        "outputId": "9eec4781-ea7d-4802-80a9-25037b2d42b3"
      },
      "execution_count": null,
      "outputs": [
        {
          "output_type": "stream",
          "name": "stdout",
          "text": [
            "Entr an integer to append to the list: 4\n",
            "Here is your current list: [4]\n",
            "Entr an integer to append to the list: 3\n",
            "Here is your current list: [4, 3]\n",
            "Entr an integer to append to the list: 2\n",
            "Here is your current list: [4, 3, 2]\n",
            "Entr an integer to append to the list: 1\n",
            "Here is your current list: [4, 3, 2, 1]\n",
            "Entr an integer to append to the list: 0\n",
            "Here is your list: [4, 3, 2, 1]\n"
          ]
        }
      ]
    },
    {
      "cell_type": "code",
      "source": [
        "allData = { # dictionary of values for countries\n",
        "    'US': {'pop':325.7, 'gdp': 19.39, 'ccy': 'USD', 'fx':  1.0},\n",
        "    'CA': {'pop': 36.5, 'gdp':  1.65, 'ccy': 'CAD', 'fx':  1.35},\n",
        "    'MX': {'pop':129.2, 'gdp':  1.15, 'ccy': 'MXN', 'fx': 19.68}\n",
        "    }\n",
        "\n",
        "while True:\n",
        "  country_code = input('Enter country code (or type exit if you want to quit): ')\n",
        "  if country_code == 'exit':\n",
        "    break\n",
        "  if country_code not in allData.keys():\n",
        "    print('This country code does not exist.')\n",
        "    continue\n",
        "  statistic = input('Enter a statistic: ')\n",
        "  if statistic not in allData[country_code].keys():\n",
        "    print('Invalid stat')\n",
        "    continue\n",
        "\n",
        "  if statistic == 'pop':\n",
        "    print(f'Population = {allData[country_code][statistic]} million people')\n",
        "  elif statistic == 'gdp':\n",
        "    print(f'GDP = {allData[country_code][statistic]} trillion $')\n",
        "  elif statistic == 'ccy':\n",
        "    print(f'CCY = {allData[country_code][statistic]}')\n",
        "  elif statistic == 'MXN':\n",
        "    print(f'MXN = {allData[country_code][statistic]}')\n",
        "  else:\n",
        "    print(f'FX = {allData[country_code][statistic]}')\n",
        "\n",
        "\n"
      ],
      "metadata": {
        "colab": {
          "base_uri": "https://localhost:8080/"
        },
        "id": "LpPeTnCsB7ks",
        "outputId": "d2f0f0d9-c384-45b6-f6ab-19bc81ace81f"
      },
      "execution_count": null,
      "outputs": [
        {
          "name": "stdout",
          "output_type": "stream",
          "text": [
            "Enter country code (or type exit if you want to quit): exit\n"
          ]
        }
      ]
    },
    {
      "cell_type": "code",
      "source": [
        "def calcTuition(credits):\n",
        "  credits = int(input('How many credit hours are you taking? '))\n",
        "  if credits >= 12:\n",
        "    print('Tuition = $20,000')\n",
        "  elif credits < 12 and credits >= 1:\n",
        "    base = 1200\n",
        "    tuition = 1200 + credits*1700\n",
        "    print(f'Tuition = {tuition}')\n",
        "  else:\n",
        "    print(f'Invalid number of credits: {credits}')\n",
        "\n",
        "calcTuition(credits)"
      ],
      "metadata": {
        "colab": {
          "base_uri": "https://localhost:8080/"
        },
        "id": "Cb2IsO6pCAqZ",
        "outputId": "6de1d0c6-2a7b-40e6-f377-9017c97338c6"
      },
      "execution_count": null,
      "outputs": [
        {
          "output_type": "stream",
          "name": "stdout",
          "text": [
            "How many credit hours are you taking? 12\n",
            "Tuition = $20,000\n"
          ]
        }
      ]
    },
    {
      "cell_type": "code",
      "source": [
        "class point:\n",
        "  def __init__(self,x,y):\n",
        "    self.x=x\n",
        "    self.y=y\n",
        "  def distance(self,other):\n",
        "    x_diff=(self.x-other.x)**2\n",
        "    y_diff=(self.y-other.y)**2\n",
        "    return (x_diff+y_diff)**.05\n",
        "\n",
        "p1=point(3,4)\n",
        "p2=point(6,8)\n",
        "print(p1.distance(p2))\n",
        "\n",
        "class point3D(point):\n",
        "  def __init__(self,x,y,z):\n",
        "    super().__init__(x,y)\n",
        "    self.z=z\n",
        "  def distance(self,other):\n",
        "    x_diff=(self.x-other.x)**2\n",
        "    y_diff=(self.y-other.y)**2\n",
        "    z_diff=(self.z-other.z)**2\n",
        "    return (x_diff+y_diff+z_diff)**.05\n",
        "\n",
        "p3=point3D(3,4,6)\n",
        "p4=point3D(5,6,8)\n",
        "print(p3.distance(p4))\n"
      ],
      "metadata": {
        "colab": {
          "base_uri": "https://localhost:8080/"
        },
        "id": "VQ1QmnssY3FH",
        "outputId": "cf7faf1d-0fc2-4993-8471-4673f9c5bd56"
      },
      "execution_count": 4,
      "outputs": [
        {
          "output_type": "stream",
          "name": "stdout",
          "text": [
            "1.174618943088019\n",
            "1.1322936253405367\n"
          ]
        }
      ]
    }
  ]
}