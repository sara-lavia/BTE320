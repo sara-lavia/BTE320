{
  "cells": [
    {
      "cell_type": "markdown",
      "metadata": {
        "id": "view-in-github",
        "colab_type": "text"
      },
      "source": [
        "<a href=\"https://colab.research.google.com/github/sara-lavia/BTE320/blob/main/Untitled0.ipynb\" target=\"_parent\"><img src=\"https://colab.research.google.com/assets/colab-badge.svg\" alt=\"Open In Colab\"/></a>"
      ]
    },
    {
      "cell_type": "code",
      "execution_count": null,
      "metadata": {
        "colab": {
          "base_uri": "https://localhost:8080/"
        },
        "id": "DIA3Jq7gAZ8-",
        "outputId": "4089bdeb-82b0-4215-c5bf-b1d8678ce767"
      },
      "outputs": [
        {
          "name": "stdout",
          "output_type": "stream",
          "text": [
            "13\n"
          ]
        }
      ],
      "source": [
        "x=13\n",
        "print(x)\n"
      ]
    },
    {
      "cell_type": "code",
      "execution_count": null,
      "metadata": {
        "colab": {
          "base_uri": "https://localhost:8080/"
        },
        "id": "j44VMYOcAh-E",
        "outputId": "b47008f8-1de2-4424-907a-a5065e054e3e"
      },
      "outputs": [
        {
          "data": {
            "text/plain": [
              "3.14"
            ]
          },
          "execution_count": 2,
          "metadata": {},
          "output_type": "execute_result"
        }
      ],
      "source": [
        "x=3.14\n",
        "int(x)\n",
        "float(x)"
      ]
    },
    {
      "cell_type": "code",
      "execution_count": null,
      "metadata": {
        "colab": {
          "base_uri": "https://localhost:8080/"
        },
        "id": "zwoJeb0CAo-f",
        "outputId": "c31b37b8-3df0-4c3f-c3cd-abf6c4ec795f"
      },
      "outputs": [
        {
          "name": "stdout",
          "output_type": "stream",
          "text": [
            "Sarad\n",
            "Hi d\n"
          ]
        },
        {
          "data": {
            "text/plain": [
              "str"
            ]
          },
          "execution_count": 4,
          "metadata": {},
          "output_type": "execute_result"
        }
      ],
      "source": [
        "name=input(\"Sara\")\n",
        "print(\"Hi\", name)\n",
        "type(name)"
      ]
    },
    {
      "cell_type": "code",
      "execution_count": null,
      "metadata": {
        "colab": {
          "base_uri": "https://localhost:8080/"
        },
        "id": "7E-wflRVA4sT",
        "outputId": "7e03093f-1855-47e6-9010-36de560cf920"
      },
      "outputs": [
        {
          "name": "stdout",
          "output_type": "stream",
          "text": [
            "Enter your name: Sara\n",
            "Hi Sara\n"
          ]
        },
        {
          "data": {
            "text/plain": [
              "str"
            ]
          },
          "execution_count": 5,
          "metadata": {},
          "output_type": "execute_result"
        }
      ],
      "source": [
        "name=input(\"Enter your name: \")\n",
        "print(\"Hi\", name)\n",
        "type(name)"
      ]
    },
    {
      "cell_type": "code",
      "execution_count": null,
      "metadata": {
        "colab": {
          "base_uri": "https://localhost:8080/"
        },
        "id": "uaoUbekNBHZQ",
        "outputId": "83fc491a-4698-4a19-c983-d09efe535b99"
      },
      "outputs": [
        {
          "data": {
            "text/plain": [
              "float"
            ]
          },
          "execution_count": 6,
          "metadata": {},
          "output_type": "execute_result"
        }
      ],
      "source": [
        "int=3.14\n",
        "type(int)"
      ]
    },
    {
      "cell_type": "code",
      "execution_count": null,
      "metadata": {
        "colab": {
          "base_uri": "https://localhost:8080/"
        },
        "id": "tFFU10SdBKts",
        "outputId": "947a2058-cb5d-4ce4-d68f-8ffb69246327"
      },
      "outputs": [
        {
          "data": {
            "text/plain": [
              "int"
            ]
          },
          "execution_count": 7,
          "metadata": {},
          "output_type": "execute_result"
        }
      ],
      "source": [
        "int=3\n",
        "type(int)"
      ]
    },
    {
      "cell_type": "code",
      "execution_count": null,
      "metadata": {
        "colab": {
          "base_uri": "https://localhost:8080/"
        },
        "id": "g_9k_DiMBndm",
        "outputId": "71612b71-8cde-4599-c037-e2b7ec7f5f2e"
      },
      "outputs": [
        {
          "data": {
            "text/plain": [
              "81"
            ]
          },
          "execution_count": 8,
          "metadata": {},
          "output_type": "execute_result"
        }
      ],
      "source": [
        "x=3\n",
        "y=4\n",
        "x**y"
      ]
    },
    {
      "cell_type": "code",
      "execution_count": null,
      "metadata": {
        "colab": {
          "base_uri": "https://localhost:8080/",
          "height": 214
        },
        "id": "0Ozd0ZtbBsNA",
        "outputId": "16aee0b2-b4bb-4261-a277-3d7cbc9421b5"
      },
      "outputs": [
        {
          "name": "stdout",
          "output_type": "stream",
          "text": [
            "Enter an integer value: 3\n"
          ]
        },
        {
          "ename": "TypeError",
          "evalue": "'int' object is not callable",
          "output_type": "error",
          "traceback": [
            "\u001b[0;31m---------------------------------------------------------------------------\u001b[0m",
            "\u001b[0;31mTypeError\u001b[0m                                 Traceback (most recent call last)",
            "\u001b[0;32m<ipython-input-11-970bea736239>\u001b[0m in \u001b[0;36m<cell line: 1>\u001b[0;34m()\u001b[0m\n\u001b[0;32m----> 1\u001b[0;31m \u001b[0mn\u001b[0m\u001b[0;34m=\u001b[0m\u001b[0mint\u001b[0m\u001b[0;34m(\u001b[0m\u001b[0minput\u001b[0m\u001b[0;34m(\u001b[0m\u001b[0;34m\"Enter an integer value: \"\u001b[0m\u001b[0;34m)\u001b[0m\u001b[0;34m)\u001b[0m\u001b[0;34m\u001b[0m\u001b[0;34m\u001b[0m\u001b[0m\n\u001b[0m\u001b[1;32m      2\u001b[0m \u001b[0mprint\u001b[0m\u001b[0;34m(\u001b[0m\u001b[0mtype\u001b[0m\u001b[0;34m(\u001b[0m\u001b[0mn\u001b[0m\u001b[0;34m)\u001b[0m\u001b[0;34m,\u001b[0m \u001b[0mn\u001b[0m\u001b[0;34m)\u001b[0m\u001b[0;34m\u001b[0m\u001b[0;34m\u001b[0m\u001b[0m\n",
            "\u001b[0;31mTypeError\u001b[0m: 'int' object is not callable"
          ]
        }
      ],
      "source": [
        "n=int(input(\"Enter an integer value: \"))\n",
        "print(type(n), n)\n"
      ]
    },
    {
      "cell_type": "code",
      "execution_count": null,
      "metadata": {
        "colab": {
          "base_uri": "https://localhost:8080/",
          "height": 214
        },
        "id": "CRteecRqCI6-",
        "outputId": "e47d8826-44bc-4f16-de2a-391ece266fdb"
      },
      "outputs": [
        {
          "name": "stdout",
          "output_type": "stream",
          "text": [
            "Enter today's date: mm/dd/yyyy 01/25/24\n"
          ]
        },
        {
          "ename": "TypeError",
          "evalue": "'int' object is not callable",
          "output_type": "error",
          "traceback": [
            "\u001b[0;31m---------------------------------------------------------------------------\u001b[0m",
            "\u001b[0;31mTypeError\u001b[0m                                 Traceback (most recent call last)",
            "\u001b[0;32m<ipython-input-12-578b1cf5dbc4>\u001b[0m in \u001b[0;36m<cell line: 2>\u001b[0;34m()\u001b[0m\n\u001b[1;32m      1\u001b[0m \u001b[0mdate\u001b[0m\u001b[0;34m=\u001b[0m\u001b[0minput\u001b[0m\u001b[0;34m(\u001b[0m\u001b[0;34m\"Enter today's date: mm/dd/yyyy \"\u001b[0m\u001b[0;34m)\u001b[0m\u001b[0;34m\u001b[0m\u001b[0;34m\u001b[0m\u001b[0m\n\u001b[0;32m----> 2\u001b[0;31m \u001b[0mprint\u001b[0m\u001b[0;34m(\u001b[0m\u001b[0;34mf\"Today is {int(date[6:])}\"\u001b[0m\u001b[0;34m)\u001b[0m\u001b[0;34m\u001b[0m\u001b[0;34m\u001b[0m\u001b[0m\n\u001b[0m",
            "\u001b[0;31mTypeError\u001b[0m: 'int' object is not callable"
          ]
        }
      ],
      "source": [
        "date=input(\"Enter today's date: mm/dd/yyyy \")\n",
        "print(f\"Today is {int(date[6:])}\")"
      ]
    },
    {
      "cell_type": "code",
      "execution_count": null,
      "metadata": {
        "id": "DNSRCDNtCcyo"
      },
      "outputs": [],
      "source": []
    },
    {
      "cell_type": "markdown",
      "metadata": {
        "id": "wYIS3BoyCd-w"
      },
      "source": [
        "Conditionals and Iterations: branching statements\n",
        "- Conditionals: based on several conditions\n",
        "  - if-else\n",
        "- Iterations\n",
        "  - while/for\n",
        "Boolean expressions are usually used in both cases\n",
        "\n",
        "if followed by condition\n",
        "if condition:\n",
        "  statement(s) that will be executed only if condition is true\n"
      ]
    },
    {
      "cell_type": "code",
      "execution_count": null,
      "metadata": {
        "colab": {
          "base_uri": "https://localhost:8080/"
        },
        "id": "tpuFdmzQF74D",
        "outputId": "0de837de-0e56-4c97-e817-fdb6c79f3561"
      },
      "outputs": [
        {
          "name": "stdout",
          "output_type": "stream",
          "text": [
            "Enter a number: 0\n",
            "0.0 is invalid\n"
          ]
        }
      ],
      "source": [
        "userInput = float(input(\"Enter a number: \"))\n",
        "if userInput > 0:\n",
        "  print(f'{userInput} is positive')\n",
        "if userInput < 0:\n",
        "  print(f'{userInput} is negative')\n",
        "else:\n",
        "  print(f'{userInput} is invalid')"
      ]
    },
    {
      "cell_type": "markdown",
      "metadata": {
        "id": "3WMgjK1-HKo3"
      },
      "source": [
        "f{} used to create string"
      ]
    },
    {
      "cell_type": "code",
      "execution_count": null,
      "metadata": {
        "colab": {
          "background_save": true
        },
        "id": "2dYkcCGWIC9i",
        "outputId": "4b28ae38-5e73-4563-b178-17d4223c4174"
      },
      "outputs": [
        {
          "ename": "SyntaxError",
          "evalue": "invalid syntax (<ipython-input-35-85b14d2e7b47>, line 8)",
          "output_type": "error",
          "traceback": [
            "\u001b[0;36m  File \u001b[0;32m\"<ipython-input-35-85b14d2e7b47>\"\u001b[0;36m, line \u001b[0;32m8\u001b[0m\n\u001b[0;31m    else: userInput < 90:\u001b[0m\n\u001b[0m                        ^\u001b[0m\n\u001b[0;31mSyntaxError\u001b[0m\u001b[0;31m:\u001b[0m invalid syntax\n"
          ]
        }
      ],
      "source": [
        "userInput = float(input(\"Enter student's grade: \"))\n",
        "if userInput > 97:\n",
        "  print(\"A+\")\n",
        "elif userInput >=93:\n",
        "  print(\"A\")\n",
        "elif userInput >=90:\n",
        "  print(\"A-\")\n",
        "else: userInput <"
      ]
    },
    {
      "cell_type": "code",
      "execution_count": null,
      "metadata": {
        "id": "thHeGDOBJ-SS",
        "colab": {
          "base_uri": "https://localhost:8080/"
        },
        "outputId": "8c92833e-6129-4a19-cbbb-88a179219d97"
      },
      "outputs": [
        {
          "output_type": "stream",
          "name": "stdout",
          "text": [
            "Enter deposit amount10000000\n",
            "Interest Rate: 3.5%\n"
          ]
        }
      ],
      "source": [
        "userInput=float(input(\"Enter deposit amount\"))\n",
        "if userInput>10000:\n",
        "  print(\"Interest Rate: 3.5%\")\n",
        "if 1000<userInput<10000:\n",
        "  print(\"Interest Rate: 3.25%\")\n",
        "if userInput<1000:\n",
        "  print(\"Interest Rate: 3.0%\")"
      ]
    },
    {
      "cell_type": "code",
      "source": [
        "# Step 1: Input deposit amount\n",
        "deposit = float(input(\"Enter the deposit amount ($): \"))\n",
        "\n",
        "# Step 2: Decide the interest rate\n",
        "if deposit>10000:\n",
        "  ir=3.5\n",
        "elif deposit>1000:\n",
        "  ir=3.25\n",
        "else:\n",
        "  ir=3.0\n",
        "\n",
        "# Step 3: Display total amount after interest rate is applied\n",
        "\n",
        "total = (1 + (ir/100)) * deposit\n",
        "print(f'Total after interest applied: {total} $')"
      ],
      "metadata": {
        "colab": {
          "base_uri": "https://localhost:8080/"
        },
        "id": "IFbo8Ko4xgtA",
        "outputId": "9bf18685-8d27-4116-833e-3d7c160c4760"
      },
      "execution_count": null,
      "outputs": [
        {
          "output_type": "stream",
          "name": "stdout",
          "text": [
            "Enter the deposit amount ($): 90000000\n",
            "Total after interest applied: 93150000.0 $\n"
          ]
        }
      ]
    },
    {
      "cell_type": "markdown",
      "source": [
        "Nested conditionals\n",
        "- Expressions have to be evaluated at the same time\n",
        "- we must combine simple expressions into complex ones\n",
        "- Combined within a if-elif-else structure"
      ],
      "metadata": {
        "id": "WHg2jrZ31phs"
      }
    },
    {
      "cell_type": "code",
      "source": [
        "if x%2 == 0: < -  first checks if"
      ],
      "metadata": {
        "id": "QQY6u4vY26Sy"
      },
      "execution_count": null,
      "outputs": []
    },
    {
      "cell_type": "code",
      "source": [
        "!pip install ColabTurtlePlus"
      ],
      "metadata": {
        "colab": {
          "base_uri": "https://localhost:8080/"
        },
        "id": "b2WqdTALyHXT",
        "outputId": "37c674da-f1c9-4e4e-d01b-c29a9003d654"
      },
      "execution_count": null,
      "outputs": [
        {
          "output_type": "stream",
          "name": "stdout",
          "text": [
            "Collecting ColabTurtlePlus\n",
            "  Downloading ColabTurtlePlus-2.0.1-py3-none-any.whl (31 kB)\n",
            "Installing collected packages: ColabTurtlePlus\n",
            "Successfully installed ColabTurtlePlus-2.0.1\n"
          ]
        }
      ]
    },
    {
      "cell_type": "code",
      "source": [
        "from ColabTurtlePlus.Turtle import *\n",
        "\n",
        "clearscreen()\n",
        "\n",
        "color('black', 'maroon')\n",
        "begin_fill()\n",
        "\n",
        "forward(100)\n",
        "left(90)\n",
        "forward(100)\n",
        "left(90)\n",
        "forward(100)\n",
        "left(90)\n",
        "forward(100)\n",
        "left(90)\n",
        "\n",
        "end_fill()\n",
        "\n",
        "begin_fill()\n",
        "color('white','pink')\n",
        "\n",
        "for i in range(4):\n",
        "  forward(100)\n",
        "  left(90)\n",
        "\n",
        "end_fill()\n",
        "\n",
        "\n"
      ],
      "metadata": {
        "colab": {
          "base_uri": "https://localhost:8080/",
          "height": 621
        },
        "id": "D7um6rQ6ycsB",
        "outputId": "9e692e62-b4ea-4c63-f460-fa4e802f2c77"
      },
      "execution_count": null,
      "outputs": [
        {
          "output_type": "display_data",
          "data": {
            "text/plain": [
              "<IPython.core.display.HTML object>"
            ],
            "text/html": [
              "\n",
              "      <svg width=\"800\" height=\"600\">  \n",
              "        <rect width=\"100%\" height=\"100%\" style=\"fill:white;stroke:;stroke-width:1\"/>\n",
              "        \n",
              "        \n",
              "        <path fill-rule=\"evenodd\" fill-opacity=\"1\" d=\"M 400.0 300.0  L 500.0 300.0  L 500.0 200.0  L 400.0 200.0  L 400.0 300.0 \" stroke-linecap=\"round\" style=\"stroke:black;stroke-width:1\" fill=\"maroon\" /><path fill-rule=\"evenodd\" fill-opacity=\"1\" d=\"M 400.0 300.0  L 500.0 300.0  L 500.0 200.0  L 400.0 200.0  L 400.0 300.0 \" stroke-linecap=\"round\" style=\"stroke:white;stroke-width:1\" fill=\"pink\" />\n",
              "        \n",
              "        \n",
              "        <g id=\"classic\" visibility=\"visible\" transform=\"rotate(-90,400.0,300.0) translate(400.0, 300.0)\">\n",
              "<polygon points=\"-5,-4.5 0,-2.5 5,-4.5 0,4.5\" transform=\"skewX(0) scale(1,1)\" style=\"stroke:white;fill:pink;stroke-width:1\" />\n",
              "</g>\n",
              "      </svg>\n",
              "    "
            ]
          },
          "metadata": {}
        }
      ]
    },
    {
      "cell_type": "markdown",
      "source": [
        "Syntax of a full loop: for a variable-name in sequence:\n",
        "  statement(s)\n",
        "\n",
        "Three input parameters of range:\n",
        "range(start, end, step)\n",
        "Function of range and parameters take only integer numbers\n",
        "Start = starting value of sequence\n",
        "Step = distance between two adjacent values\n",
        "\n",
        "print(obj(s), sep=\" \", end= \" \"..)\n",
        "default separator is a space\n",
        "end value is never part of the sequence\n"
      ],
      "metadata": {
        "id": "0EfRPPFN0zJj"
      }
    },
    {
      "cell_type": "code",
      "source": [
        "for i in range(5,20,5):\n",
        "  print(i)"
      ],
      "metadata": {
        "colab": {
          "base_uri": "https://localhost:8080/"
        },
        "id": "4m2BuTbT4qj2",
        "outputId": "48a558ce-c410-46fa-bbbe-b218f7a128ba"
      },
      "execution_count": null,
      "outputs": [
        {
          "output_type": "stream",
          "name": "stdout",
          "text": [
            "5\n",
            "10\n",
            "15\n"
          ]
        }
      ]
    },
    {
      "cell_type": "markdown",
      "source": [
        "Default step is 1\n",
        "\n",
        "step has to be negative when start value is larger than end value"
      ],
      "metadata": {
        "id": "0GhmNUxf5MTH"
      }
    },
    {
      "cell_type": "code",
      "source": [
        "for i in range(1,13):\n",
        "  print(i)"
      ],
      "metadata": {
        "colab": {
          "base_uri": "https://localhost:8080/"
        },
        "id": "amj2uR5Y6wUH",
        "outputId": "8bad2534-4a8a-4d65-a7b7-ed03cc921c11"
      },
      "execution_count": null,
      "outputs": [
        {
          "output_type": "stream",
          "name": "stdout",
          "text": [
            "1\n",
            "2\n",
            "3\n",
            "4\n",
            "5\n",
            "6\n",
            "7\n",
            "8\n",
            "9\n",
            "10\n",
            "11\n",
            "12\n"
          ]
        }
      ]
    },
    {
      "cell_type": "code",
      "source": [
        "for hour in range(1,9,1):\n",
        "  print(f\"{hour} {5 + 2.5*(hour)}\")"
      ],
      "metadata": {
        "colab": {
          "base_uri": "https://localhost:8080/"
        },
        "id": "KdZ6D03T87yQ",
        "outputId": "6a0127b8-48ad-4b72-ac50-7705a90b7ccd"
      },
      "execution_count": null,
      "outputs": [
        {
          "output_type": "stream",
          "name": "stdout",
          "text": [
            "1 7.5\n",
            "2 10.0\n",
            "3 12.5\n",
            "4 15.0\n",
            "5 17.5\n",
            "6 20.0\n",
            "7 22.5\n",
            "8 25.0\n"
          ]
        }
      ]
    },
    {
      "cell_type": "markdown",
      "source": [
        "While loop\n",
        "\n",
        "while the boolean expression holds (true), then run the block of code that follows\n",
        "\n",
        "for var in range(n):\n",
        "  statement(s)\n",
        "\n",
        "i=1\n",
        "n=5\n",
        "while i<n:\n",
        "  print(i)\n",
        "\n",
        "in while look, there is no automated process for increasing value of i, you have to do it manually\n",
        "1. initialize the process so the condition becomes true and the loop process begins\n",
        "2. update this process within the loop again, so eventually this loop becomes false, so that the iteration eventually ends.\n",
        "\n",
        "Ex:\n",
        "\n",
        "i=1\n",
        "n=5\n",
        "whilei<n:\n",
        "  print(i)\n",
        "  i=i+1\n",
        "\n",
        "now process will work as expected.\n",
        "Three parts:\n",
        "1. assigning parts (initialization)\n",
        "2. while statement\n",
        "3. adjustment to make iteration end. (update)\n",
        "\n",
        "Comparison operations\n",
        "==,!=\n",
        "<,<=\n",
        ">,>=\n"
      ],
      "metadata": {
        "id": "eX5ys0zTFsky"
      }
    },
    {
      "cell_type": "code",
      "source": [
        "2==2"
      ],
      "metadata": {
        "colab": {
          "base_uri": "https://localhost:8080/"
        },
        "id": "-0BGkkBCIw1N",
        "outputId": "2f790df4-d75a-4f5b-8540-81c1360ce2f1"
      },
      "execution_count": null,
      "outputs": [
        {
          "output_type": "execute_result",
          "data": {
            "text/plain": [
              "True"
            ]
          },
          "metadata": {},
          "execution_count": 1
        }
      ]
    },
    {
      "cell_type": "code",
      "source": [
        "import random\n",
        "\n",
        "UserInput=input(\"Play a game? (y/n)\")\n",
        "while UserInput==\"y\":\n",
        "\n",
        "  user_choice = input(\"Enter your choice (rock, paper, or scissors): \")\n",
        "  computer_choice = random.choice([\"rock\", \"paper\", \"scissors\"])\n",
        "\n",
        "  print(f\"You chose: {user_choice}\")\n",
        "  print(f\"Computer chose: {computer_choice}\")\n",
        "\n",
        "  if user_choice == computer_choice:\n",
        "      print(\"It's a tie!\")\n",
        "  elif (\n",
        "      (user_choice == \"rock\" and computer_choice == \"scissors\") or\n",
        "      (user_choice == \"paper\" and computer_choice == \"rock\") or\n",
        "      (user_choice == \"scissors\" and computer_choice == \"paper\")\n",
        "  ):\n",
        "      print(\"You win!\")\n",
        "  else:\n",
        "      print(\"Computer wins!\")\n",
        "\n",
        "  UserInput=input(\"Do you wish to continue? (y/n)\")\n"
      ],
      "metadata": {
        "colab": {
          "base_uri": "https://localhost:8080/"
        },
        "id": "cpdTmMmuJqFV",
        "outputId": "0344261a-2ced-4a0c-cb0d-94dcc6b0f361"
      },
      "execution_count": null,
      "outputs": [
        {
          "name": "stdout",
          "output_type": "stream",
          "text": [
            "Play a game? (y/n)y\n",
            "Enter your choice (rock, paper, or scissors): rock\n",
            "You chose: rock\n",
            "Computer chose: scissors\n",
            "You win!\n",
            "Do you wish to continue? (y/n)n\n"
          ]
        }
      ]
    }
  ],
  "metadata": {
    "colab": {
      "provenance": [],
      "authorship_tag": "ABX9TyNPJzAFVpUFy9IFmrpnwKji",
      "include_colab_link": true
    },
    "kernelspec": {
      "display_name": "Python 3",
      "name": "python3"
    },
    "language_info": {
      "name": "python"
    }
  },
  "nbformat": 4,
  "nbformat_minor": 0
}